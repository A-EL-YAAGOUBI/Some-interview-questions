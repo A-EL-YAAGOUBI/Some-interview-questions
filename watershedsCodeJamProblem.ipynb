{
 "cells": [
  {
   "cell_type": "markdown",
   "metadata": {},
   "source": [
    "# Problem :\n",
    "\n",
    "Geologists sometimes divide an area of land into different regions based on where rainfall flows down to. These regions are called drainage basins.\n",
    "\n",
    "Given an elevation map (a 2-dimensional array of altitudes), label the map such that locations in the same drainage basin have the same label, subject to the following rules.\n",
    "\n",
    "- From each cell, water flows down to at most one of its 4 neighboring cells.\n",
    "- For each cell, if none of its 4 neighboring cells has a lower altitude than the current cell's, then the water does not flow, and the current cell is called a sink.\n",
    "- Otherwise, water flows from the current cell to the neighbor with the lowest altitude.\n",
    "- In case of a tie, water will choose the first direction with the lowest altitude from this list: North, West, East, South.\n",
    "\n",
    "Every cell that drains directly or indirectly to the same sink is part of the same drainage basin. Each basin is labeled by a unique lower-case letter, in such a way that, when the rows of the map are concatenated from top to bottom, the resulting string is lexicographically smallest. (In particular, the basin of the most North-Western cell is always labeled 'a'.)\n",
    "\n",
    "## Input\n",
    "\n",
    "The first line of the input file will contain the number of maps, T. T maps will follow, each starting with two integers on a line -- H and W -- the height and width of the map, in cells. The next H lines will each contain a row of the map, from north to south, each containing W integers, from west to east, specifying the altitudes of the cells.\n",
    "\n",
    "## Output\n",
    "\n",
    "For each test case, output 1+H lines. The first line must be of the form\n",
    "\n",
    "Case #X:\n",
    "where X is the test case number, starting from 1. The next H lines must list the basin labels for each of the cells, in the same order as they appear in the input."
   ]
  },
  {
   "cell_type": "code",
   "execution_count": 1,
   "metadata": {
    "collapsed": true
   },
   "outputs": [],
   "source": [
    "import numpy as np"
   ]
  },
  {
   "cell_type": "markdown",
   "metadata": {},
   "source": [
    "### Implementation"
   ]
  },
  {
   "cell_type": "code",
   "execution_count": 2,
   "metadata": {
    "collapsed": true
   },
   "outputs": [],
   "source": [
    "def getLine():\n",
    "    # For easily reading one line\n",
    "    return list(map(int, input().split(' ')))\n",
    "\n",
    "\n",
    "def getInput():\n",
    "    # For easily reading the input as in the description\n",
    "    nbMaps = int(input())\n",
    "    elevationMaps = []\n",
    "    \n",
    "    for i in range(nbMaps):\n",
    "        # Reading the ith map\n",
    "        size = getLine()\n",
    "        elevationMap = np.array([np.array(getLine()) for ii in range(size[0])])\n",
    "        elevationMaps.append(elevationMap)\n",
    "    return elevationMaps\n",
    "\n",
    "\n",
    "def getOrderedNeighbors(i, j, iMax, jMax):\n",
    "    neighbors = []\n",
    "    if i - 1 >= 0:   neighbors.append((i - 1, j))\n",
    "    if j - 1 >= 0:   neighbors.append((i, j - 1))\n",
    "    if j + 1 < jMax: neighbors.append((i, j + 1))\n",
    "    if i + 1 < iMax: neighbors.append((i + 1, j))\n",
    "    return neighbors\n",
    "\n",
    "\n",
    "def getCorrespondingSink(elevationMap, visitedPoints, i, j):\n",
    "    # Initialization\n",
    "    newI, newJ = i, j\n",
    "    oldI, oldJ = None, None\n",
    "    iMax, jMax = elevationMap.shape\n",
    "    path = [(newI, newJ)]\n",
    "    \n",
    "    # Looping through the points following the water flow\n",
    "    # When we arrive at the sink there would be no  lower\n",
    "    # points so the old point is the new point!\n",
    "    while (oldI, oldJ) != (newI, newJ):\n",
    "        oldI, oldJ = newI, newJ\n",
    "        for ii, jj in getOrderedNeighbors(newI, newJ, iMax, jMax):\n",
    "            if elevationMap[ii,jj] < elevationMap[newI,newJ]:\n",
    "                newI, newJ = ii, jj\n",
    "        # We found a lower point, so we add it to the path and go downhill\n",
    "        # Last two point maybe duplicated but it is not a big prblem ...\n",
    "        path.append((newI, newJ))\n",
    "\n",
    "        # If we already visited this point we return, otherwise we continue downhill\n",
    "        if (newI, newJ) in visitedPoints:\n",
    "            return path\n",
    "    return path\n",
    "\n",
    "\n",
    "def getMapLabeling(elevationMap):\n",
    "    # Initialization\n",
    "    newLabel = 97\n",
    "    mapLabeling = np.ndarray(elevationMap.shape)\n",
    "    \n",
    "    # Stores sinks labels and\n",
    "    # Serves also as cache ..\n",
    "    visitedPoints = {}\n",
    "    \n",
    "    # For each point we find its corresponding sink\n",
    "    # and we give it the same label.\n",
    "    for i in range(elevationMap.shape[0]):\n",
    "        for j in range(elevationMap.shape[1]):\n",
    "            if (i, j) in visitedPoints:\n",
    "                # This point was visited so we already know its label\n",
    "                mapLabeling[i, j] = visitedPoints[i, j]                \n",
    "            else:\n",
    "                # This point was not visited before so we get its corresponding sink\n",
    "                path = getCorrespondingSink(elevationMap, visitedPoints, i, j)\n",
    "                sink = path[-1]\n",
    "                \n",
    "                # If the sink was not visited we give it a new label\n",
    "                if not sink in visitedPoints:\n",
    "                    visitedPoints[sink] = newLabel\n",
    "                    newLabel += 1\n",
    "                # And for each point in the path to the sink we must update the label \n",
    "                for point in path:\n",
    "                    mapLabeling[point]   = visitedPoints[sink]\n",
    "                    visitedPoints[point] = visitedPoints[sink]\n",
    "    return mapLabeling\n",
    "\n",
    "\n",
    "def printMapLabeling(mapLabeling, i):\n",
    "    # Printing the solution as in description ...\n",
    "    print('Case #{}:'.format(i))\n",
    "    for i in range(mapLabeling.shape[0]):\n",
    "        print(' '.join(list(map(lambda x : chr(int(x)), mapLabeling[i]))))"
   ]
  },
  {
   "cell_type": "markdown",
   "metadata": {},
   "source": [
    "###  Solving the problem"
   ]
  },
  {
   "cell_type": "code",
   "execution_count": 3,
   "metadata": {},
   "outputs": [
    {
     "name": "stdout",
     "output_type": "stream",
     "text": [
      "1\n",
      "5 11\n",
      "5 5 5 5 5 9 7 7 7 7 7\n",
      "5 4 4 4 5 9 7 6 6 6 7\n",
      "5 4 3 4 5 9 7 6 5 6 7\n",
      "5 4 4 4 5 9 7 6 6 6 7\n",
      "5 5 5 5 5 9 7 7 7 7 7\n",
      "Case #1:\n",
      "a b c d e e f g h i j\n",
      "b b c d d d g g h i i\n",
      "c c c c c c h h h h h\n",
      "k k c l l l m m h n n\n",
      "o k c l p p q m h n r\n"
     ]
    }
   ],
   "source": [
    "for i, elevationMap in enumerate(getInput()):\n",
    "    labeling = getMapLabeling(elevationMap)\n",
    "    printMapLabeling(labeling, i + 1)"
   ]
  },
  {
   "cell_type": "code",
   "execution_count": 4,
   "metadata": {
    "collapsed": true
   },
   "outputs": [],
   "source": [
    "#5\n",
    "#3 3\n",
    "#9 6 3\n",
    "#5 9 6\n",
    "#3 5 9\n",
    "#1 10\n",
    "#0 1 2 3 4 5 6 7 8 7\n",
    "#2 3\n",
    "#7 6 7\n",
    "#7 6 7\n",
    "#5 5\n",
    "#1 2 3 4 5\n",
    "#2 9 3 9 6\n",
    "#3 3 0 8 7\n",
    "#4 9 8 9 8\n",
    "#5 6 7 8 9\n",
    "#2 13\n",
    "#8 8 8 8 8 8 8 8 8 8 8 8 8\n",
    "#8 8 8 8 8 8 8 8 8 8 8 8 8\n",
    "#Case #1:\n",
    "#a b b\n",
    "#a a b\n",
    "#a a a\n",
    "#Case #2:\n",
    "#a a a a a a a a a b\n",
    "#Case #3:\n",
    "#a a a\n",
    "#b b b\n",
    "#Case #4:\n",
    "#a a a a a\n",
    "#a a b b a\n",
    "#a b b b a\n",
    "#a b b b a\n",
    "#a a a a a\n",
    "#Case #5:\n",
    "#a b c d e f g h i j k l m\n",
    "#n o p q r s t u v w x y z"
   ]
  }
 ],
 "metadata": {
  "kernelspec": {
   "display_name": "Python 3",
   "language": "python",
   "name": "python3"
  },
  "language_info": {
   "codemirror_mode": {
    "name": "ipython",
    "version": 3
   },
   "file_extension": ".py",
   "mimetype": "text/x-python",
   "name": "python",
   "nbconvert_exporter": "python",
   "pygments_lexer": "ipython3",
   "version": "3.6.3"
  }
 },
 "nbformat": 4,
 "nbformat_minor": 2
}
