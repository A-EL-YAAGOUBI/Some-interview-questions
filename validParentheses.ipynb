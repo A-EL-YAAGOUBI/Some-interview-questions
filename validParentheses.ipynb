{
 "cells": [
  {
   "cell_type": "markdown",
   "metadata": {},
   "source": [
    "# Problem Check if a string of parentheses is valid or not:\n",
    "\n",
    "Examples: ()(()()) is correct, ()))) is not, )( is not"
   ]
  },
  {
   "cell_type": "code",
   "execution_count": 1,
   "metadata": {
    "collapsed": true
   },
   "outputs": [],
   "source": [
    "def checkCorrect(myString):\n",
    "    nbOpened, nbClosed = 0, 0\n",
    "    for char in myString:\n",
    "        if char is '(':\n",
    "            nbOpened += 1 \n",
    "        if char is ')':\n",
    "            nbClosed += 1\n",
    "        if nbClosed > nbOpened:\n",
    "            return False\n",
    "    return nbClosed == nbOpened"
   ]
  }
 ],
 "metadata": {
  "kernelspec": {
   "display_name": "Python 3",
   "language": "python",
   "name": "python3"
  },
  "language_info": {
   "codemirror_mode": {
    "name": "ipython",
    "version": 3
   },
   "file_extension": ".py",
   "mimetype": "text/x-python",
   "name": "python",
   "nbconvert_exporter": "python",
   "pygments_lexer": "ipython3",
   "version": "3.6.3"
  }
 },
 "nbformat": 4,
 "nbformat_minor": 2
}
