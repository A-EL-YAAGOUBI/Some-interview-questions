{
 "cells": [
  {
   "cell_type": "markdown",
   "metadata": {},
   "source": [
    "# Problem Check if a string of parentheses is valid or not:\n",
    "\n",
    "Examples: ()(()()) is correct, ()))) is not, )( is not"
   ]
  },
  {
   "cell_type": "code",
   "execution_count": 1,
   "metadata": {
    "collapsed": true
   },
   "outputs": [],
   "source": [
    "def checkCorrect(myString):\n",
    "    nbOpened, nbClosed = 0, 0\n",
    "    for char in myString:\n",
    "        if char is '(':\n",
    "            nbOpened += 1 \n",
    "        if char is ')':\n",
    "            nbClosed += 1\n",
    "        if nbClosed > nbOpened:\n",
    "            return False\n",
    "    return nbClosed == nbOpened"
   ]
  },
  {
   "cell_type": "code",
   "execution_count": 2,
   "metadata": {
    "collapsed": true
   },
   "outputs": [],
   "source": [
    "def simplerCheckCorrect(myString):\n",
    "    counter = 0\n",
    "    for char in myString:\n",
    "        if char is '(':\n",
    "            counter += 1\n",
    "        elif char is ')':\n",
    "            counter -= 1\n",
    "\n",
    "        if counter < 0:\n",
    "            return False\n",
    "    return counter == 0"
   ]
  },
  {
   "cell_type": "code",
   "execution_count": 3,
   "metadata": {
    "collapsed": true
   },
   "outputs": [],
   "source": [
    "def isOpening(char):\n",
    "    if char is '(' or char is '[' or char is '{':\n",
    "        return True\n",
    "    return False\n",
    "\n",
    "\n",
    "def isClosing(char):\n",
    "    if char is ')' or char is ']' or char is '}':\n",
    "        return True\n",
    "    return False\n",
    "\n",
    "\n",
    "def getOpposite(char):\n",
    "    if char is '(':\n",
    "        return ')'\n",
    "    elif char is ')':\n",
    "        return '('\n",
    "    elif char is '[':\n",
    "        return ']'\n",
    "    elif char is ']':\n",
    "        return '['\n",
    "    elif char is '{':\n",
    "        return '}'\n",
    "    elif char is '}':\n",
    "        return '{'\n",
    "\n",
    "    return None\n",
    "\n",
    "\n",
    "def checkCorrect2(myString):\n",
    "    stack = []\n",
    "    for char in myString:\n",
    "        if isOpening(char):\n",
    "            stack.append(char)\n",
    "        elif isClosing(char):\n",
    "            try:\n",
    "                next_ = stack.pop()\n",
    "            except:\n",
    "                next_ = None\n",
    "            if not next_ is getOpposite(char):\n",
    "                return False\n",
    "    return len(stack) == 0"
   ]
  },
  {
   "cell_type": "markdown",
   "metadata": {},
   "source": [
    "### Testing phase"
   ]
  },
  {
   "cell_type": "code",
   "execution_count": 4,
   "metadata": {},
   "outputs": [
    {
     "name": "stdout",
     "output_type": "stream",
     "text": [
      "-------- First Solution --------\n",
      "Test 1 :  True\n",
      "Test 2 :  False\n",
      "Test 3 :  False\n",
      "-------- Second Solution --------\n",
      "Test 1 :  True\n",
      "Test 2 :  False\n",
      "Test 3 :  False\n",
      "Test 4 :  True\n",
      "Test 5 :  False\n",
      "Test 6 :  True\n"
     ]
    }
   ],
   "source": [
    "test_1 = '()(()())'\n",
    "test_2 = '())))'\n",
    "test_3 = ')('\n",
    "\n",
    "test_4 = '()([()()])'\n",
    "test_5 = '()([()(]))'\n",
    "test_6 = '(hello)([(1+1)]{[(wow)]})'\n",
    "\n",
    "\n",
    "print('-------- First Solution --------')\n",
    "print('Test 1 : ', checkCorrect(test_1))\n",
    "print('Test 2 : ', checkCorrect(test_2))\n",
    "print('Test 3 : ', checkCorrect(test_3))\n",
    "\n",
    "\n",
    "print('-------- Second Solution --------')\n",
    "print('Test 1 : ', checkCorrect2(test_1))\n",
    "print('Test 2 : ', checkCorrect2(test_2))\n",
    "print('Test 3 : ', checkCorrect2(test_3))\n",
    "print('Test 4 : ', checkCorrect2(test_4))\n",
    "print('Test 5 : ', checkCorrect2(test_5))\n",
    "print('Test 6 : ', checkCorrect2(test_6))"
   ]
  }
 ],
 "metadata": {
  "kernelspec": {
   "display_name": "Python 3",
   "language": "python",
   "name": "python3"
  },
  "language_info": {
   "codemirror_mode": {
    "name": "ipython",
    "version": 3
   },
   "file_extension": ".py",
   "mimetype": "text/x-python",
   "name": "python",
   "nbconvert_exporter": "python",
   "pygments_lexer": "ipython3",
   "version": "3.6.3"
  }
 },
 "nbformat": 4,
 "nbformat_minor": 2
}
